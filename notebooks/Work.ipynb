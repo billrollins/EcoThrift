{
 "cells": [
  {
   "cell_type": "code",
   "execution_count": 1,
   "metadata": {},
   "outputs": [],
   "source": [
    "import pandas as pd\n",
    "import numpy as np\n",
    "import os\n",
    "\n",
    "NOTEBOOK_DIR = os.getcwd()\n",
    "project_dir = os.path.dirname(NOTEBOOK_DIR)\n",
    "apps_dir = os.path.join(project_dir, 'apps')\n",
    "home_dir = os.path.join(apps_dir, 'home')\n",
    "static_dir = os.path.join(apps_dir, 'static')\n",
    "DATA_DIR = os.path.join(static_dir, 'assets', 'data')"
   ]
  },
  {
   "cell_type": "markdown",
   "metadata": {},
   "source": [
    "### Load Site design Excel file and export as pickel file for faster operation"
   ]
  },
  {
   "cell_type": "code",
   "execution_count": 3,
   "metadata": {},
   "outputs": [
    {
     "name": "stdout",
     "output_type": "stream",
     "text": [
      "Exported PKL:  sidebar.pkl\n",
      "Exported PKL:  page.pkl\n",
      "Exported PKL:  page_element.pkl\n",
      "Exported PKL:  meta_form.pkl\n",
      "Exported PKL:  form.pkl\n",
      "Exported PKL:  form_field.pkl\n",
      "Exported PKL:  model.pkl\n",
      "Exported PKL:  model_field.pkl\n",
      "Exported PKL:  table.pkl\n",
      "Exported PKL:  table_field.pkl\n"
     ]
    }
   ],
   "source": [
    "SITE_DESIGN_FN = os.path.join(NOTEBOOK_DIR, 'field_design.xlsm')\n",
    "SITE_DESIGN = [\n",
    "    ['sidebar'],\n",
    "    ['page','page_element'],\n",
    "    ['meta_form'],\n",
    "    ['form','form_field'],\n",
    "    ['model','model_field'],\n",
    "    ['table','table_field']\n",
    "]\n",
    "SITE_DESIGN_SHEETS = ['sidebar','page','page_element','meta_form','form','form_field','model','model_field','table','table_field']\n",
    "int_cols = [[],[],[],[],[],['Size'],[],[],[],[]]\n",
    "\n",
    "def convert_cols(df, _int_cols):\n",
    "    df = df.sort_values(by='#').drop('#', axis=1)\n",
    "    cols = df.columns.tolist()\n",
    "    str_cols = [c for c in cols if c not in _int_cols]\n",
    "    dt_dct = {c:np.dtype('i1') for c in _int_cols}\n",
    "    dt_dct.update({c:np.dtype('str') for c in str_cols})\n",
    "    df[_int_cols] = df[_int_cols].fillna(-1)\n",
    "    df[str_cols] = df[str_cols].fillna('')\n",
    "    df = df.astype(dt_dct)\n",
    "    return df\n",
    "\n",
    "def export_pickles():\n",
    "    for _sheet, _int_cols in zip(SITE_DESIGN_SHEETS, int_cols):\n",
    "        convert_cols(\n",
    "            pd.read_excel(\n",
    "                SITE_DESIGN_FN,\n",
    "                sheet_name=_sheet\n",
    "            ),\n",
    "            _int_cols\n",
    "        ).to_pickle(\n",
    "            os.path.join(DATA_DIR, f'{_sheet}.pkl')\n",
    "        )\n",
    "        print('Exported PKL: ', f'{_sheet}.pkl')\n",
    "    return\n",
    "\n",
    "export_pickles()"
   ]
  },
  {
   "cell_type": "markdown",
   "metadata": {},
   "source": [
    "### Print models.py code generated from site design"
   ]
  },
  {
   "cell_type": "code",
   "execution_count": 14,
   "metadata": {},
   "outputs": [
    {
     "name": "stdout",
     "output_type": "stream",
     "text": [
      "Exported PKL:  sidebar.pkl\n",
      "Exported PKL:  page.pkl\n",
      "Exported PKL:  page_element.pkl\n",
      "Exported PKL:  meta_form.pkl\n",
      "Exported PKL:  form.pkl\n",
      "Exported PKL:  form_field.pkl\n",
      "Exported PKL:  model.pkl\n",
      "Exported PKL:  model_field.pkl\n",
      "Exported PKL:  table.pkl\n",
      "Exported PKL:  table_field.pkl\n"
     ]
    }
   ],
   "source": [
    "def model_str():    \n",
    "    export_pickles()\n",
    "    code_list = ['']\n",
    "    models = pd.read_pickle(os.path.join(DATA_DIR, f'model.pkl'))\n",
    "    model_fields = pd.read_pickle(os.path.join(DATA_DIR, f'model_field.pkl'))\n",
    "    for _, m in models.iterrows():\n",
    "        fields = \"\\n\".join([f'    {f.Code}'for _, f in model_fields[model_fields.Model == m.Model].iterrows()])\n",
    "        if fields == '':\n",
    "            fields = \"    # No Fields Defined\"\n",
    "        code = \"\\n\".join([\n",
    "            f\"\\nclass {m.Model}({m.Extends}):\",\n",
    "            f\"{fields}\",\n",
    "            f'    def __str__(self):',\n",
    "            f\"        return f'{m.String}'\"\n",
    "        ])\n",
    "        code_list += [code]\n",
    "    s = \"\\n\".join(code_list)\n",
    "    pd.DataFrame([s]).to_clipboard(index=False, header=False, quotechar='\\t')\n",
    "    return\n",
    "    \n",
    "model_str()"
   ]
  },
  {
   "cell_type": "code",
   "execution_count": 15,
   "metadata": {},
   "outputs": [
    {
     "name": "stdout",
     "output_type": "stream",
     "text": [
      "Exported PKL:  sidebar.pkl\n",
      "Exported PKL:  page.pkl\n",
      "Exported PKL:  page_element.pkl\n",
      "Exported PKL:  meta_form.pkl\n",
      "Exported PKL:  form.pkl\n",
      "Exported PKL:  form_field.pkl\n",
      "Exported PKL:  model.pkl\n",
      "Exported PKL:  model_field.pkl\n",
      "Exported PKL:  table.pkl\n",
      "Exported PKL:  table_field.pkl\n"
     ]
    }
   ],
   "source": [
    "def form_str():    \n",
    "    export_pickles()\n",
    "    code_list = ['']\n",
    "    forms = pd.read_pickle(os.path.join(DATA_DIR, f'form.pkl'))\n",
    "    form_fields = pd.read_pickle(os.path.join(DATA_DIR, f'form_field.pkl'))\n",
    "    for _, f in forms.iterrows():\n",
    "        fields = \"', '\".join(form_fields[form_fields.Form == f.Form].Field.tolist())\n",
    "        code = \"\\n\".join([\n",
    "            f\"\\nclass {f.Form}({f.Extends}):\",\n",
    "            f\"    class Meta:\",\n",
    "            f\"      model = {f.Model}\",\n",
    "            f\"      fields = ['{fields}']\"\n",
    "        ])\n",
    "        code_list += [code]\n",
    "    s = \"\\n\".join(code_list)    \n",
    "    pd.DataFrame([s]).to_clipboard(index=False, header=False, quotechar='\\t')\n",
    "    return\n",
    "\n",
    "form_str()"
   ]
  },
  {
   "cell_type": "code",
   "execution_count": 38,
   "metadata": {},
   "outputs": [
    {
     "data": {
      "text/plain": [
       "'var1'"
      ]
     },
     "execution_count": 38,
     "metadata": {},
     "output_type": "execute_result"
    }
   ],
   "source": [
    "class Test(object):\n",
    "    def __init__(self, a, b, c):\n",
    "        self.a = a\n",
    "        self.b = b\n",
    "        self.c = c\n",
    "\n",
    "thisObj = Test('var1','var2','var3')\n",
    "thisdict = {\n",
    "    'object': thisObj\n",
    "}\n",
    "\n",
    "thisdict['object'].a"
   ]
  },
  {
   "cell_type": "code",
   "execution_count": 53,
   "metadata": {},
   "outputs": [
    {
     "data": {
      "text/plain": [
       "'bill'"
      ]
     },
     "execution_count": 53,
     "metadata": {},
     "output_type": "execute_result"
    }
   ],
   "source": [
    "id = 'bill'\n",
    "\n",
    "id or 'name'"
   ]
  }
 ],
 "metadata": {
  "kernelspec": {
   "display_name": "Python 3.7.11 ('ecothrift')",
   "language": "python",
   "name": "python3"
  },
  "language_info": {
   "codemirror_mode": {
    "name": "ipython",
    "version": 3
   },
   "file_extension": ".py",
   "mimetype": "text/x-python",
   "name": "python",
   "nbconvert_exporter": "python",
   "pygments_lexer": "ipython3",
   "version": "3.7.11"
  },
  "orig_nbformat": 4,
  "vscode": {
   "interpreter": {
    "hash": "aecd057b6d3bb28cfb5a2cc94c3aa48f2b623d244b51475ee3fb1658dfc44ded"
   }
  }
 },
 "nbformat": 4,
 "nbformat_minor": 2
}
