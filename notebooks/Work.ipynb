{
 "cells": [
  {
   "cell_type": "code",
   "execution_count": 6,
   "metadata": {},
   "outputs": [
    {
     "name": "stdout",
     "output_type": "stream",
     "text": [
      "notebook_dir: c:\\Coding\\EcoThrift\\notebooks\n",
      "project_dir: c:\\Coding\\EcoThrift\n",
      "apps_dir: c:\\Coding\\EcoThrift\\apps\n",
      "home_dir: c:\\Coding\\EcoThrift\\apps\\home\n",
      "static_dir: c:\\Coding\\EcoThrift\\apps\\static\n",
      "DATA_DIR: c:\\Coding\\EcoThrift\\apps\\static\\assets\\data\n"
     ]
    }
   ],
   "source": [
    "import pandas as pd\n",
    "import numpy as np\n",
    "import os\n",
    "\n",
    "NOTEBOOK_DIR = os.getcwd()\n",
    "project_dir = os.path.dirname(NOTEBOOK_DIR)\n",
    "apps_dir = os.path.join(project_dir, 'apps')\n",
    "home_dir = os.path.join(apps_dir, 'home')\n",
    "static_dir = os.path.join(apps_dir, 'static')\n",
    "DATA_DIR = os.path.join(static_dir, 'assets', 'data')\n",
    "\n",
    "print('notebook_dir:', NOTEBOOK_DIR)\n",
    "print('project_dir:', project_dir)\n",
    "print('apps_dir:', apps_dir)\n",
    "print('home_dir:', home_dir)\n",
    "print('static_dir:', static_dir)\n",
    "print('DATA_DIR:', DATA_DIR)"
   ]
  },
  {
   "cell_type": "markdown",
   "metadata": {},
   "source": [
    "### Load Site design Excel file and export as pickel file for faster operation"
   ]
  },
  {
   "cell_type": "code",
   "execution_count": 7,
   "metadata": {},
   "outputs": [
    {
     "name": "stdout",
     "output_type": "stream",
     "text": [
      "Exported PKL:  Models (17, 5)\n",
      "Exported PKL:  Forms (13, 3)\n",
      "Exported PKL:  Model Fields (102, 6)\n",
      "Exported PKL:  Form Fields (97, 12)\n",
      "Exported PKL:  Meta Forms (22, 11)\n",
      "Exported PKL:  Tables (9, 6)\n",
      "Exported PKL:  Table Fields (109, 10)\n",
      "Exported PKL:  Pages (29, 7)\n",
      "Exported PKL:  Page Elements (28, 10)\n"
     ]
    }
   ],
   "source": [
    "site_design_excel = os.path.join(NOTEBOOK_DIR, 'field_design.xlsm')\n",
    "\n",
    "SD_MODELS_FN = os.path.join(DATA_DIR, 'models.pkl')\n",
    "SD_MODEL_FIELDS_FN = os.path.join(DATA_DIR, 'model_fields.pkl')\n",
    "\n",
    "SD_FORMS_FN = os.path.join(DATA_DIR, 'forms.pkl')\n",
    "SD_FORM_FIELDS_FN = os.path.join(DATA_DIR, 'form_fields.pkl')\n",
    "SD_META_FORMS_FN = os.path.join(DATA_DIR, 'meta_forms.pkl')\n",
    "\n",
    "SD_TABLES_FN = os.path.join(DATA_DIR, 'tables.pkl')\n",
    "SD_TABLE_FIELDS_FN = os.path.join(DATA_DIR, 'table_fields.pkl')\n",
    "\n",
    "SD_PAGES_FN = os.path.join(DATA_DIR, 'pages.pkl')\n",
    "SD_PAGE_ELEMENTS_FN = os.path.join(DATA_DIR, 'page_elements.pkl')\n",
    "\n",
    "\n",
    "SD_MODELS = ['Models', site_design_excel, 'models', [], SD_MODELS_FN]\n",
    "SD_MODEL_FIELDS = ['Model Fields', site_design_excel, 'model_fields', [], SD_MODEL_FIELDS_FN]\n",
    "\n",
    "SD_FORMS = ['Forms', site_design_excel, 'forms', [], SD_FORMS_FN]\n",
    "SD_FORM_FIELDS = ['Form Fields', site_design_excel, 'form_fields', ['Row','Column', 'Size'], SD_FORM_FIELDS_FN]\n",
    "SD_META_FORMS = ['Meta Forms', site_design_excel, 'meta_forms', ['Order'], SD_META_FORMS_FN]\n",
    "\n",
    "\n",
    "SD_TABLES = ['Tables', site_design_excel, 'tables', [], SD_TABLES_FN]\n",
    "SD_TABLE_FIELDS = ['Table Fields', site_design_excel, 'table_fields', ['Order'], SD_TABLE_FIELDS_FN]\n",
    "\n",
    "SD_PAGES = ['Pages', site_design_excel, 'pages', [], SD_PAGES_FN]\n",
    "SD_PAGE_ELEMENTS = ['Page Elements', site_design_excel, 'page_elements', ['Row','Column'], SD_PAGE_ELEMENTS_FN]\n",
    "\n",
    "def convert_cols(df, int_cols=[]):\n",
    "    cols = df.columns.tolist()\n",
    "    str_cols = [c for c in cols if c not in int_cols]\n",
    "    dt_dct = {c:np.dtype('i1') for c in int_cols}\n",
    "    dt_dct.update({c:np.dtype('str') for c in str_cols})\n",
    "    df[int_cols] = df[int_cols].fillna(-1)\n",
    "    df[str_cols] = df[str_cols].fillna('')\n",
    "    df = df.astype(dt_dct)\n",
    "    return df\n",
    "\n",
    "def export_form_pickel(args):\n",
    "    df = pd.read_excel(args[1], sheet_name=args[2])\n",
    "    df = convert_cols(df, args[3])\n",
    "    df.to_pickle(args[4])\n",
    "    print('Exported PKL: ', args[0], df.shape)\n",
    "    return\n",
    "\n",
    "def export_pickels():\n",
    "    export_form_pickel(SD_MODELS)\n",
    "    export_form_pickel(SD_FORMS)\n",
    "    export_form_pickel(SD_MODEL_FIELDS)\n",
    "    export_form_pickel(SD_FORM_FIELDS)\n",
    "    export_form_pickel(SD_META_FORMS)\n",
    "    export_form_pickel(SD_TABLES)\n",
    "    export_form_pickel(SD_TABLE_FIELDS)\n",
    "    export_form_pickel(SD_PAGES)\n",
    "    export_form_pickel(SD_PAGE_ELEMENTS)\n",
    "    return\n",
    "\n",
    "export_pickels()"
   ]
  },
  {
   "cell_type": "markdown",
   "metadata": {},
   "source": [
    "### Print models.py code generated from site design"
   ]
  },
  {
   "cell_type": "code",
   "execution_count": 9,
   "metadata": {},
   "outputs": [
    {
     "name": "stdout",
     "output_type": "stream",
     "text": [
      "Exported PKL:  Models (17, 5)\n",
      "Exported PKL:  Forms (13, 3)\n",
      "Exported PKL:  Model Fields (102, 6)\n",
      "Exported PKL:  Form Fields (97, 12)\n",
      "Exported PKL:  Meta Forms (22, 11)\n",
      "Exported PKL:  Tables (9, 6)\n",
      "Exported PKL:  Table Fields (109, 10)\n",
      "Exported PKL:  Pages (29, 7)\n",
      "Exported PKL:  Page Elements (28, 10)\n"
     ]
    }
   ],
   "source": [
    "def model_str(model_list=None, copy_to_clipboard = True):    \n",
    "    export_pickels()\n",
    "    include_dict_code = False\n",
    "    if model_list is None:\n",
    "        model_list = list(pd.read_pickle(SD_MODELS_FN).Name)\n",
    "        include_dict_code = True\n",
    "    code_list = ['']\n",
    "    model_df = pd.read_pickle(SD_MODELS_FN)\n",
    "    field_df = pd.read_pickle(SD_MODEL_FIELDS_FN)    \n",
    "    for nm in model_list:\n",
    "        m = model_df[model_df.Name == nm].iloc[0]\n",
    "        fields = \"\\n\".join([f'    {c}'for c in field_df[field_df.Model == nm].Code.values])\n",
    "        if fields == '':\n",
    "            fields = \"    # No Fields Defined\"\n",
    "        code = \"\\n\".join([\n",
    "            f\"\\nclass {m.Name}({m.Extends}):\",\n",
    "            f\"    model_name, _pk_ = '{m.Name}', '{m.PK}'\",\n",
    "            f\"    model_design = MODEL_DESIGN[model_name]\",            \n",
    "            f\"    \",\n",
    "            f\"{fields}\",\n",
    "            f\"    \",\n",
    "            f'    def __str__(self):',\n",
    "            f\"        return f'{m.String}'\"\n",
    "        ])\n",
    "        code_list += [code]\n",
    "\n",
    "    if include_dict_code:\n",
    "        models = \"{\" + \", \".join([f\"'{nm}':{nm}\"for nm in model_list]) + \"}\"\n",
    "        code_list += [f\"\\nMODELS = {models}\"]\n",
    "\n",
    "    s = \"\\n\".join(code_list)\n",
    "\n",
    "    if copy_to_clipboard:\n",
    "        pd.DataFrame([s]).to_clipboard(index=False, header=False, quotechar='\\t')\n",
    "    return s\n",
    "\n",
    "s = model_str()"
   ]
  },
  {
   "cell_type": "code",
   "execution_count": 5,
   "metadata": {},
   "outputs": [
    {
     "name": "stdout",
     "output_type": "stream",
     "text": [
      "Exported PKL:  Models (17, 5)\n",
      "Exported PKL:  Forms (13, 3)\n",
      "Exported PKL:  Model Fields (102, 6)\n",
      "Exported PKL:  Form Fields (97, 12)\n",
      "Exported PKL:  Meta Forms (22, 11)\n",
      "Exported PKL:  Tables (9, 6)\n",
      "Exported PKL:  Table Fields (109, 10)\n",
      "Exported PKL:  Pages (29, 7)\n",
      "Exported PKL:  Page Elements (28, 10)\n"
     ]
    }
   ],
   "source": [
    "def form_str(form_list=None):    \n",
    "    export_pickels()\n",
    "\n",
    "    form_df = pd.read_pickle(SD_FORMS_FN)\n",
    "    form_fields_df = pd.read_pickle(SD_FORM_FIELDS_FN)\n",
    "\n",
    "    include_dict_code = False\n",
    "    if form_list is None:\n",
    "        form_list = list(form_df.Name)\n",
    "        include_dict_code = True\n",
    "\n",
    "    code_list = ['']    \n",
    "    exclude_list = []\n",
    "\n",
    "    for nm in form_list:\n",
    "        if nm not in exclude_list:\n",
    "            f = form_df[form_df.Name == nm].iloc[0]\n",
    "            fields = \"', '\".join(form_fields_df[form_fields_df.Form == f.Name].Name.tolist())\n",
    "            code = \"\\n\".join([\n",
    "                f\"\\nclass {f.Name}({f.Extends}):\",\n",
    "                f\"    form_name = '{f.Name}'\",\n",
    "                f\"    form_design = FORM_DESIGN['{f.Name}']\",\n",
    "                f\"    field_struct, field_attrs = GET_FORM_FIELDS(form_design)\",\n",
    "                f\"    model_class = {f.Model}\",\n",
    "                f\"    model_name = '{f.Model}'\",\n",
    "                f\"    class Meta:\",\n",
    "                f\"      model = {f.Model}\",\n",
    "                f\"      fields = ['{fields}']\"\n",
    "            ])\n",
    "            code_list += [code]\n",
    "\n",
    "    if include_dict_code:\n",
    "        forms = \"{\" + \", \".join([f\"'{nm}':{nm}\"for nm in form_list]) + \"}\"\n",
    "        code_list += [f\"\\nFORMS = {forms}\"]\n",
    "\n",
    "    s = \"\\n\".join(code_list)\n",
    "    \n",
    "    pd.DataFrame([s]).to_clipboard(index=False, header=False, quotechar='\\t')\n",
    "    return\n",
    "\n",
    "form_str()\n"
   ]
  },
  {
   "cell_type": "code",
   "execution_count": 197,
   "metadata": {},
   "outputs": [
    {
     "data": {
      "text/plain": [
       "{'asdf': 'asdf'}"
      ]
     },
     "execution_count": 197,
     "metadata": {},
     "output_type": "execute_result"
    }
   ],
   "source": [
    "l = [('asdf', 'asdf')]\n",
    "dict(l)"
   ]
  },
  {
   "cell_type": "code",
   "execution_count": 42,
   "metadata": {},
   "outputs": [
    {
     "name": "stdout",
     "output_type": "stream",
     "text": [
      "[({'Menu': 'Home', 'MenuId': 'HomePages', 'Icon': 'fas fa-couch'}, [({'SubMenu': 'Dashboard', 'SubId': 'HomeDashboardPages', 'Type': '0', 'Text': 'Dashboard', 'Mini': 'D', 'SubMini': 'H'}, [{'Text': 'Dashboard', 'Mini': 'D', 'HREF': 'Dashboard'}]), ({'SubMenu': 'Profile', 'SubId': 'HomeProfilePages', 'Type': '0', 'Text': 'Profile', 'Mini': 'P', 'SubMini': 'H'}, [{'Text': 'Profile', 'Mini': 'P', 'HREF': 'MyProfile'}]), ({'SubMenu': 'TimeClock', 'SubId': 'HomeTimeClockPages', 'Type': '0', 'Text': 'TimeClock', 'Mini': 'T', 'SubMini': 'H'}, [{'Text': 'TimeClock', 'Mini': 'T', 'HREF': ''}]), ({'SubMenu': 'Calendar', 'SubId': 'HomeCalendarPages', 'Type': '0', 'Text': 'Calendar', 'Mini': 'C', 'SubMini': 'H'}, [{'Text': 'Calendar', 'Mini': 'C', 'HREF': ''}]), ({'SubMenu': 'Events', 'SubId': 'HomeEventsPages', 'Type': '1', 'Text': 'New Event', 'Mini': 'N', 'SubMini': 'H'}, [{'Text': 'New Event', 'Mini': 'N', 'HREF': ''}, {'Text': 'View Events', 'Mini': 'V', 'HREF': ''}])]), ({'Menu': 'Operations', 'MenuId': 'OperationsPages', 'Icon': 'fas fa-business-time'}, [({'SubMenu': 'Inventory', 'SubId': 'OperationsInventoryPages', 'Type': '1', 'Text': 'New Inventory', 'Mini': 'N', 'SubMini': 'O'}, [{'Text': 'New Inventory', 'Mini': 'N', 'HREF': ''}, {'Text': 'View Inventory', 'Mini': 'V', 'HREF': ''}]), ({'SubMenu': 'Orders', 'SubId': 'OperationsOrdersPages', 'Type': '1', 'Text': 'New Order', 'Mini': 'N', 'SubMini': 'O'}, [{'Text': 'New Order', 'Mini': 'N', 'HREF': 'AddOrder'}, {'Text': 'View Orders', 'Mini': 'V', 'HREF': 'ViewOrders'}]), ({'SubMenu': 'DropOff', 'SubId': 'OperationsDropOffPages', 'Type': '1', 'Text': 'New DropOff', 'Mini': 'N', 'SubMini': 'O'}, [{'Text': 'New DropOff', 'Mini': 'N', 'HREF': 'AddDropoff'}, {'Text': 'View DropOffs', 'Mini': 'V', 'HREF': 'ViewDropoffs'}]), ({'SubMenu': 'Items', 'SubId': 'OperationsItemsPages', 'Type': '1', 'Text': 'New Item', 'Mini': 'N', 'SubMini': 'O'}, [{'Text': 'New Item', 'Mini': 'N', 'HREF': 'AddItem'}, {'Text': 'View Items', 'Mini': 'V', 'HREF': 'ViewItems'}])]), ({'Menu': 'Management', 'MenuId': 'ManagementPages', 'Icon': 'fas fa-chess'}, [({'SubMenu': 'Employees', 'SubId': 'ManagementEmployeesPages', 'Type': '1', 'Text': 'New Employee', 'Mini': 'N', 'SubMini': 'M'}, [{'Text': 'New Employee', 'Mini': 'N', 'HREF': ''}, {'Text': 'View Employees', 'Mini': 'V', 'HREF': ''}]), ({'SubMenu': 'Consignors', 'SubId': 'ManagementConsignorsPages', 'Type': '1', 'Text': 'New Consignor', 'Mini': 'N', 'SubMini': 'M'}, [{'Text': 'New Consignor', 'Mini': 'N', 'HREF': ''}, {'Text': 'View Consignors', 'Mini': 'V', 'HREF': ''}]), ({'SubMenu': 'Liquidators', 'SubId': 'ManagementLiquidatorsPages', 'Type': '1', 'Text': 'New Liquidator', 'Mini': 'N', 'SubMini': 'M'}, [{'Text': 'New Liquidator', 'Mini': 'N', 'HREF': 'AddLiquidator'}, {'Text': 'View Liquidators', 'Mini': 'V', 'HREF': 'ViewLiquidators'}]), ({'SubMenu': 'Schedule', 'SubId': 'ManagementSchedulePages', 'Type': '1', 'Text': 'New Schedule', 'Mini': 'N', 'SubMini': 'M'}, [{'Text': 'New Schedule', 'Mini': 'N', 'HREF': ''}, {'Text': 'View Schedules', 'Mini': 'V', 'HREF': ''}]), ({'SubMenu': 'Vacation', 'SubId': 'ManagementVacationPages', 'Type': '1', 'Text': 'New Vacation', 'Mini': 'N', 'SubMini': 'M'}, [{'Text': 'New Vacation', 'Mini': 'N', 'HREF': ''}, {'Text': 'View Vacation', 'Mini': 'V', 'HREF': ''}]), ({'SubMenu': 'Drawers', 'SubId': 'ManagementDrawersPages', 'Type': '1', 'Text': 'New Drawer', 'Mini': 'N', 'SubMini': 'M'}, [{'Text': 'New Drawer', 'Mini': 'N', 'HREF': ''}, {'Text': 'View Drawers', 'Mini': 'V', 'HREF': ''}])]), ({'Menu': 'Database', 'MenuId': 'DatabasePages', 'Icon': 'fas fa-database'}, [({'SubMenu': 'Stores', 'SubId': 'DatabaseStoresPages', 'Type': '1', 'Text': 'New Store', 'Mini': 'N', 'SubMini': 'D'}, [{'Text': 'New Store', 'Mini': 'N', 'HREF': 'AddStore'}, {'Text': 'View Stores', 'Mini': 'V', 'HREF': 'ViewStores'}]), ({'SubMenu': 'Departments', 'SubId': 'DatabaseDepartmentsPages', 'Type': '1', 'Text': 'New Department', 'Mini': 'N', 'SubMini': 'D'}, [{'Text': 'New Department', 'Mini': 'N', 'HREF': 'AddDepartment'}, {'Text': 'View Departments', 'Mini': 'V', 'HREF': 'ViewDepartments'}]), ({'SubMenu': 'Positions', 'SubId': 'DatabasePositionsPages', 'Type': '1', 'Text': 'New Position', 'Mini': 'N', 'SubMini': 'D'}, [{'Text': 'New Position', 'Mini': 'N', 'HREF': 'AddPosition'}, {'Text': 'View Positions', 'Mini': 'V', 'HREF': 'ViewPositions'}]), ({'SubMenu': 'Sections', 'SubId': 'DatabaseSectionsPages', 'Type': '1', 'Text': 'New Section', 'Mini': 'N', 'SubMini': 'D'}, [{'Text': 'New Section', 'Mini': 'N', 'HREF': 'AddSection'}, {'Text': 'View Sections', 'Mini': 'V', 'HREF': 'ViewSections'}]), ({'SubMenu': 'Locations', 'SubId': 'DatabaseLocationsPages', 'Type': '1', 'Text': 'New Location', 'Mini': 'N', 'SubMini': 'D'}, [{'Text': 'New Location', 'Mini': 'N', 'HREF': 'AddLocation'}, {'Text': 'View Locations', 'Mini': 'V', 'HREF': 'ViewLocations'}])])]\n"
     ]
    }
   ],
   "source": [
    "def sidebar():\n",
    "    sidebar = []\n",
    "    menu, menu2, sub, sub2 = None, None, None, None\n",
    "    thisMenu, thisSub = [], []\n",
    "    df = pd.read_excel(site_design_excel, sheet_name='sidebar')\n",
    "    df = convert_cols(df)\n",
    "\n",
    "    menu_cols = ['Menu','MenuId', 'Icon']\n",
    "    sub_cols = ['SubMenu', 'SubId', 'Type','Text','Mini', 'SubMini']\n",
    "    text_cols = ['Text','Mini','HREF']    \n",
    "\n",
    "    for _, r in df.iterrows():\n",
    "        if sub != r['SubMenu']:\n",
    "            if sub:\n",
    "                thisMenu += [(sub2, thisSub)]\n",
    "            sub, sub2, thisSub = r['SubMenu'], dict(r[sub_cols]), []\n",
    "        if menu != r['Menu']:\n",
    "            if menu:\n",
    "                sidebar += [(menu2, thisMenu)]\n",
    "            menu, menu2, thisMenu = r['Menu'], dict(r[menu_cols]), []\n",
    "        thisSub += [dict(r[text_cols])]\n",
    "        \n",
    "    thisMenu += [(sub2, thisSub)]\n",
    "    sidebar += [(menu2, thisMenu)]\n",
    "\n",
    "    return sidebar\n",
    "    \n",
    "print(sidebar())\n",
    "\n",
    "#display(sidebar())"
   ]
  },
  {
   "cell_type": "code",
   "execution_count": 41,
   "metadata": {},
   "outputs": [
    {
     "data": {
      "text/plain": [
       "[{'Forms': 'UserForm',\n",
       "  'Template': 'forms/pill-forms.html',\n",
       "  'Header': 'My User',\n",
       "  'SubHeader': 'You can edite your User profile below',\n",
       "  'Button': 'Edit',\n",
       "  'Instance': 'pk',\n",
       "  'Redirect_Valid': 'MyProfile',\n",
       "  'Redirect_Invalid': 'MyProfile',\n",
       "  'Delete': ''},\n",
       " {'Forms': 'ShopperForm',\n",
       "  'Template': 'forms/pill-forms.html',\n",
       "  'Header': 'My Shopper',\n",
       "  'SubHeader': 'You can edite your Shopper profile below',\n",
       "  'Button': 'Edit',\n",
       "  'Instance': 'pk',\n",
       "  'Redirect_Valid': 'MyProfile',\n",
       "  'Redirect_Invalid': 'MyProfile',\n",
       "  'Delete': ''},\n",
       " {'Forms': 'ConsignorForm',\n",
       "  'Template': 'forms/pill-forms.html',\n",
       "  'Header': 'My Consignor',\n",
       "  'SubHeader': 'You can edite your Consignor profile below',\n",
       "  'Button': 'Edit',\n",
       "  'Instance': 'pk',\n",
       "  'Redirect_Valid': 'MyProfile',\n",
       "  'Redirect_Invalid': 'MyProfile',\n",
       "  'Delete': ''},\n",
       " {'Forms': 'EmployeeForm',\n",
       "  'Template': 'forms/pill-forms.html',\n",
       "  'Header': 'My Employee',\n",
       "  'SubHeader': 'You can edite your Employee profile below',\n",
       "  'Button': 'Edit',\n",
       "  'Instance': 'pk',\n",
       "  'Redirect_Valid': 'MyProfile',\n",
       "  'Redirect_Invalid': 'MyProfile',\n",
       "  'Delete': ''}]"
      ]
     },
     "execution_count": 41,
     "metadata": {},
     "output_type": "execute_result"
    }
   ],
   "source": [
    "nm = 'ProfileForm'\n",
    "META_FORMS = pd.read_pickle(SD_META_FORMS_FN).sort_values(by=['Order'])\n",
    "COLS = ['Forms','Template','Header','SubHeader','Button','Instance','Redirect_Valid','Redirect_Invalid','Delete']\n",
    "df = META_FORMS[META_FORMS.Name == nm]\n",
    "template= df.Template.iloc[0]\n",
    "vals = {c:df[c].tolist() for c in COLS}\n",
    "vals2 = [dict(i) for _, i in df[COLS].iterrows()]\n",
    "vals2"
   ]
  },
  {
   "cell_type": "code",
   "execution_count": 46,
   "metadata": {},
   "outputs": [
    {
     "name": "stdout",
     "output_type": "stream",
     "text": [
      "request.user\n"
     ]
    }
   ],
   "source": [
    "cur_dict = {\n",
    "    'cur_user': 'request.user',\n",
    "    'cur_shp':  'request.user.extendeduser.shopper',\n",
    "    'cur_con':  'request.user.extendeduser.consignor',\n",
    "    'cur_emp':  'request.user.extendeduser.employee'\n",
    "}\n",
    "\n",
    "pk = 'cur_user'\n",
    "\n",
    "if pk in cur_dict:\n",
    "    print(cur_dict[pk])\n",
    "else:\n",
    "    print(pk)\n"
   ]
  }
 ],
 "metadata": {
  "kernelspec": {
   "display_name": "Python 3.10.4 ('env': venv)",
   "language": "python",
   "name": "python3"
  },
  "language_info": {
   "codemirror_mode": {
    "name": "ipython",
    "version": 3
   },
   "file_extension": ".py",
   "mimetype": "text/x-python",
   "name": "python",
   "nbconvert_exporter": "python",
   "pygments_lexer": "ipython3",
   "version": "3.10.4"
  },
  "orig_nbformat": 4,
  "vscode": {
   "interpreter": {
    "hash": "e1ca860943cdf9766a033e341897089e8414d9ac386c96afb41a036bffe6e8b8"
   }
  }
 },
 "nbformat": 4,
 "nbformat_minor": 2
}
