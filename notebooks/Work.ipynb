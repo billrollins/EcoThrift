{
 "cells": [
  {
   "cell_type": "code",
   "execution_count": 128,
   "metadata": {},
   "outputs": [],
   "source": [
    "import pandas as pd\n",
    "import numpy as np\n",
    "import os\n",
    "\n",
    "NOTEBOOK_DIR = os.getcwd()\n",
    "project_dir = os.path.dirname(NOTEBOOK_DIR)\n",
    "apps_dir = os.path.join(project_dir, 'apps')\n",
    "home_dir = os.path.join(apps_dir, 'home')\n",
    "static_dir = os.path.join(apps_dir, 'static')\n",
    "DATA_DIR = os.path.join(static_dir, 'assets', 'data')"
   ]
  },
  {
   "cell_type": "markdown",
   "metadata": {},
   "source": [
    "### Load Site design Excel file and export as pickel file for faster operation"
   ]
  },
  {
   "cell_type": "code",
   "execution_count": 129,
   "metadata": {},
   "outputs": [
    {
     "name": "stdout",
     "output_type": "stream",
     "text": [
      "Exported PKL:  sidebar.pkl\n",
      "Exported PKL:  page.pkl\n",
      "Exported PKL:  page_element.pkl\n",
      "Exported PKL:  meta_form.pkl\n",
      "Exported PKL:  form.pkl\n",
      "Exported PKL:  form_field.pkl\n",
      "Exported PKL:  model.pkl\n",
      "Exported PKL:  model_field.pkl\n",
      "Exported PKL:  table.pkl\n",
      "Exported PKL:  table_field.pkl\n"
     ]
    }
   ],
   "source": [
    "SITE_DESIGN_FN = os.path.join(NOTEBOOK_DIR, 'field_design.xlsm')\n",
    "SITE_DESIGN = [\n",
    "    ['sidebar'],\n",
    "    ['page','page_element'],\n",
    "    ['meta_form'],\n",
    "    ['form','form_field'],\n",
    "    ['model','model_field'],\n",
    "    ['table','table_field']\n",
    "]\n",
    "SITE_DESIGN_SHEETS = ['sidebar','page','page_element','meta_form','form','form_field','model','model_field','table','table_field']\n",
    "int_cols = [[],[],[],[],[],['Size'],[],[],[],[]]\n",
    "\n",
    "def convert_cols(df, _int_cols):\n",
    "    df = df.sort_values(by='#').drop('#', axis=1)\n",
    "    cols = df.columns.tolist()\n",
    "    str_cols = [c for c in cols if c not in _int_cols]\n",
    "    dt_dct = {c:np.dtype('i1') for c in _int_cols}\n",
    "    dt_dct.update({c:np.dtype('str') for c in str_cols})\n",
    "    df[_int_cols] = df[_int_cols].fillna(-1)\n",
    "    df[str_cols] = df[str_cols].fillna('')\n",
    "    df = df.astype(dt_dct)\n",
    "    return df\n",
    "\n",
    "def export_pickles():\n",
    "    for _sheet, _int_cols in zip(SITE_DESIGN_SHEETS, int_cols):\n",
    "        convert_cols(\n",
    "            pd.read_excel(\n",
    "                SITE_DESIGN_FN,\n",
    "                sheet_name=_sheet\n",
    "            ),\n",
    "            _int_cols\n",
    "        ).to_pickle(\n",
    "            os.path.join(DATA_DIR, f'{_sheet}.pkl')\n",
    "        )\n",
    "        print('Exported PKL: ', f'{_sheet}.pkl')\n",
    "    return\n",
    "\n",
    "export_pickles()"
   ]
  },
  {
   "cell_type": "markdown",
   "metadata": {},
   "source": [
    "### Print models.py code generated from site design"
   ]
  },
  {
   "cell_type": "code",
   "execution_count": 133,
   "metadata": {},
   "outputs": [
    {
     "name": "stdout",
     "output_type": "stream",
     "text": [
      "Exported PKL:  sidebar.pkl\n",
      "Exported PKL:  page.pkl\n",
      "Exported PKL:  page_element.pkl\n",
      "Exported PKL:  meta_form.pkl\n",
      "Exported PKL:  form.pkl\n",
      "Exported PKL:  form_field.pkl\n",
      "Exported PKL:  model.pkl\n",
      "Exported PKL:  model_field.pkl\n",
      "Exported PKL:  table.pkl\n",
      "Exported PKL:  table_field.pkl\n"
     ]
    }
   ],
   "source": [
    "def model_str():    \n",
    "    export_pickles()\n",
    "    code_list = ['']\n",
    "    models = pd.read_pickle(os.path.join(DATA_DIR, f'model.pkl'))\n",
    "    model_fields = pd.read_pickle(os.path.join(DATA_DIR, f'model_field.pkl'))\n",
    "    for _, m in models.iterrows():\n",
    "        fields = \"\\n\".join([f'    {f.Code}'for _, f in model_fields[model_fields.Model == m.Model].iterrows()])\n",
    "        if fields == '':\n",
    "            fields = \"    # No Fields Defined\"\n",
    "        code = \"\\n\".join([\n",
    "            f\"\\nclass {m.Model}({m.Extends}):\",\n",
    "            f\"{fields}\",\n",
    "            f'    def __str__(self):',\n",
    "            f\"        return f'{m.String}'\"\n",
    "        ])\n",
    "        code_list += [code]\n",
    "    s = \"\\n\".join(code_list)\n",
    "    pd.DataFrame([s]).to_clipboard(index=False, header=False, quotechar='\\t')\n",
    "    return\n",
    "    \n",
    "model_str()"
   ]
  },
  {
   "cell_type": "code",
   "execution_count": 131,
   "metadata": {},
   "outputs": [
    {
     "name": "stdout",
     "output_type": "stream",
     "text": [
      "Exported PKL:  sidebar.pkl\n",
      "Exported PKL:  page.pkl\n",
      "Exported PKL:  page_element.pkl\n",
      "Exported PKL:  meta_form.pkl\n",
      "Exported PKL:  form.pkl\n",
      "Exported PKL:  form_field.pkl\n",
      "Exported PKL:  model.pkl\n",
      "Exported PKL:  model_field.pkl\n",
      "Exported PKL:  table.pkl\n",
      "Exported PKL:  table_field.pkl\n"
     ]
    }
   ],
   "source": [
    "def form_str():    \n",
    "    export_pickles()\n",
    "    code_list = ['']\n",
    "    forms = pd.read_pickle(os.path.join(DATA_DIR, f'form.pkl'))\n",
    "    form_fields = pd.read_pickle(os.path.join(DATA_DIR, f'form_field.pkl'))\n",
    "    for _, f in forms.iterrows():\n",
    "        fields = \"', '\".join(form_fields[form_fields.Form == f.Form].Field.tolist())\n",
    "        code = \"\\n\".join([\n",
    "            f\"\\nclass {f.Form}({f.Extends}):\",\n",
    "            f\"    class Meta:\",\n",
    "            f\"      model = {f.Model}\",\n",
    "            f\"      fields = ['{fields}']\"\n",
    "        ])\n",
    "        code_list += [code]\n",
    "    s = \"\\n\".join(code_list)    \n",
    "    pd.DataFrame([s]).to_clipboard(index=False, header=False, quotechar='\\t')\n",
    "    return\n",
    "\n",
    "form_str()"
   ]
  },
  {
   "cell_type": "code",
   "execution_count": 68,
   "metadata": {},
   "outputs": [],
   "source": [
    "MANIFEST_HEADING_FIELDS = [\n",
    "    ('Amazon 1', {'item description' : 'description', 'gl description' : 'department', 'product class' : 'class', 'category' : 'category', 'subcategory' : 'subcategory', 'qty' : 'units', 'unit retail' : 'unit_retail', 'asin' : '', 'ext. retail' : '', 'inventory reference id' : '', 'shipmentid' : '', 'shipmentitemid' : '', 'shipped qty' : '', 'unfulfilled qty' : '', 'upc' : ''}),\n",
    "    ('B-Stock 1', {'item description' : 'description', 'manufacturer' : 'brand', 'model' : 'model', 'qty' : 'units', 'retail per unit' : 'unit_retail', 'carrier' : '', 'expiration date' : '', 'memory' : '', 'total retail' : '', 'upc' : ''}),\n",
    "    ('Costco 1', {'item description' : 'description', 'department' : 'department', 'category' : 'category', 'brand' : 'brand', 'qty' : 'units', 'unit retail' : 'unit_retail', 'category code' : '', 'dept. code' : '', 'ext. retail' : '', 'item #' : '', 'lot #' : ''}),\n",
    "    ('Home Depot 1', {'item description' : 'description', 'department' : 'department', 'product class' : 'class', 'category' : 'category', 'subcategory' : 'subcategory', 'brand' : 'brand', 'model' : 'model', 'qty' : 'units', 'unit retail' : 'unit_retail', 'ext. retail' : '', 'order #' : '', 'sb #' : '', 'sku' : '', 'upc' : ''}),\n",
    "    ('Target 1', {'item description' : 'description', 'department' : 'department', 'product class' : 'class', 'category' : 'category', 'subcategory' : 'subcategory', 'brand' : 'brand', 'qty' : 'units', 'retail' : 'unit_retail', 'item' : '', 'ext. retail' : '', 'pallet id' : '', 'upc' : ''}),\n",
    "    ('Target 2', {'item description' : 'description', 'sep cat' : 'department', 'product type' : 'class', 'category' : 'category', 'item model' : 'model', 'qty' : 'units', 'retail' : 'unit_retail', 'cat.' : '', 'cat. desc.' : '', 'container type' : '', 'ext. retail' : '', 'item' : '', 'item dep id' : '', 'origin' : '', 'pallet' : '', 'warehouse code' : ''}),\n",
    "    ('Walmart 1', {'item description' : 'description', 'department' : 'department', 'subcategory' : 'category', 'model' : 'model', 'qty' : 'units', 'unit retail' : 'unit_retail', 'upc' : '', 'ext. retail' : '', 'unit weight' : '', 'pallet id' : '', 'pallet name' : '', 'pallet type' : ''})\n",
    "]\n",
    "\n",
    "def GET_MANIFEST_FIELDS(field_list):\n",
    "    heading_fields, match_cnt, match_pct, heading_template = {}, 0, 0, ''\n",
    "    for _d, h in MANIFEST_HEADING_FIELDS:\n",
    "        _match_cnt = len([1 for f in field_list if f.lower() in h.keys()])\n",
    "        _match_pct = _match_cnt / len(h.keys())\n",
    "        replace = _match_cnt > match_cnt\n",
    "        if _match_cnt == match_cnt: replace = _match_pct > match_pct\n",
    "        if replace:\n",
    "            heading_fields, match_cnt, match_pct, heading_template = h, _match_cnt, _match_pct, _d\n",
    "    for k in [k for k, v in heading_fields.items() if v == '']: del heading_fields[k] \n",
    "    return heading_template, heading_fields"
   ]
  },
  {
   "cell_type": "code",
   "execution_count": 64,
   "metadata": {},
   "outputs": [],
   "source": [
    "from datetime import date, datetime, timedelta\n",
    "from string import ascii_uppercase\n",
    "\n",
    "ECO_OPEN_DATE = date(2022, 10, 31)\n",
    "ECO_PRICE_COUNT = 104\n",
    "ECO_PRICES = np.array([    \n",
    "    1,     2,     3,     4,     5,     6,     7,     8,     9,\n",
    "    10,    11,    12,    14,    16,    18,    20,    23,    26,\n",
    "    29,    32,    35,    38,    41,    44,    47,    50,    55,\n",
    "    60,    65,    70,    75,    80,    85,    90,    95,   100,\n",
    "    110,   120,   140,   160,   180,   200,   230,   260,   290,\n",
    "    320,   350,   380,   410,   440,   470,   500,   550,   600,\n",
    "    650,   700,   750,   800,   850,   900,   950,  1000,  1100,\n",
    "    1200,  1400,  1600,  1800,  2000,  2300,  2600,  2900,  3200,\n",
    "    3500,  3800,  4100,  4400,  4700,  5000,  5500,  6000,  6500,\n",
    "    7000,  7500,  8000,  8500,  9000,  9500, 10000, 11000, 12000,\n",
    "    14000, 16000, 18000, 20000, 23000, 26000, 29000, 32000, 35000,\n",
    "    38000, 41000, 44000, 47000, 50000\n",
    "])\n",
    "\n",
    "def GET_TODAYS_PRICES():\n",
    "    _dict, _reverse_dict = {}, {}\n",
    "    _prices = np.sort(ECO_PRICES)[::-1]\n",
    "    delta_days = (date.today() - ECO_OPEN_DATE).days\n",
    "    price_delta = delta_days // 7\n",
    "    \n",
    "    for i in range(1,5):\n",
    "        for c in ascii_uppercase:\n",
    "            price_delta = price_delta % ECO_PRICE_COUNT\n",
    "            lbl, price = f'{c}{i}', ECO_PRICES[price_delta]  \n",
    "            _dict[lbl] = price\n",
    "            _reverse_dict[price] = lbl\n",
    "            price_delta += 1\n",
    "    \n",
    "    return _dict, _reverse_dict\n",
    "\n",
    "PRICE_DICT, REVERSE_PRICE_DICT = GET_TODAYS_PRICES()\n",
    "\n",
    "def GET_PRICE_ARRAY(from_price):\n",
    "    _i = np.searchsorted(ECO_PRICES, from_price)\n",
    "    return np.concatenate([ECO_PRICES[_i:], ECO_PRICES[:_i]])\n"
   ]
  },
  {
   "cell_type": "code",
   "execution_count": 127,
   "metadata": {},
   "outputs": [
    {
     "data": {
      "text/plain": [
       "[('a_thisC', 'a - thisC'), ('b_thisA', 'b - thisA'), ('c_thisA', 'c - thisA')]"
      ]
     },
     "execution_count": 127,
     "metadata": {},
     "output_type": "execute_result"
    }
   ],
   "source": [
    "loc_objects = [\n",
    "{'section':{'name': 'c'}, 'label':'thisA'},\n",
    "{'section':{'name': 'b'}, 'label':'thisA'},\n",
    "{'section':{'name': 'a'}, 'label':'thisC'},\n",
    "]\n",
    "\n",
    "\n",
    "\n",
    "\n",
    "\n",
    "loc = np.array([[l['section']['name'], l['label']] for l in loc_objects])\n",
    "loc = loc[loc[:,0].argsort()]\n",
    "[(f'{l[0]}_{l[1]}', f'{l[0]} - {l[1]}') for l in loc]\n"
   ]
  },
  {
   "cell_type": "code",
   "execution_count": 96,
   "metadata": {},
   "outputs": [
    {
     "data": {
      "text/plain": [
       "44"
      ]
     },
     "execution_count": 96,
     "metadata": {},
     "output_type": "execute_result"
    }
   ],
   "source": []
  },
  {
   "cell_type": "code",
   "execution_count": 4,
   "metadata": {},
   "outputs": [],
   "source": [
    "# import the modules\n",
    "import sys\n",
    "import time\n",
    "\n",
    "from watchdog.observers import Observer\n",
    "from watchdog.events import FileSystemEventHandler\n",
    "\n",
    "\n",
    "# to trigger the proess_and_plt function when a new file comes in directory \n",
    "\n",
    "class ExampleHandler(FileSystemEventHandler):\n",
    "    def on_created(self, event):\n",
    "        print(event.src_path)\n",
    "\n",
    "event_handler = ExampleHandler()\n",
    "\n",
    "observer = Observer()\n",
    "observer.schedule(event_handler, path='C:\\\\Users\\\\bill_\\\\Downloads')\n",
    "\n",
    "observer.start()\n",
    "\n",
    "try:\n",
    "    while True:\n",
    "        time.sleep(1)\n",
    "except KeyboardInterrupt:\n",
    "    observer.stop()\n",
    "\n",
    "observer.join()"
   ]
  },
  {
   "cell_type": "code",
   "execution_count": 11,
   "metadata": {},
   "outputs": [
    {
     "ename": "TypeError",
     "evalue": "POST data should be bytes, an iterable of bytes, or a file object. It cannot be of type str.",
     "output_type": "error",
     "traceback": [
      "\u001b[1;31m---------------------------------------------------------------------------\u001b[0m",
      "\u001b[1;31mTypeError\u001b[0m                                 Traceback (most recent call last)",
      "\u001b[1;32mc:\\Coding\\EcoThrift\\notebooks\\Work.ipynb Cell 10\u001b[0m in \u001b[0;36m<cell line: 41>\u001b[1;34m()\u001b[0m\n\u001b[0;32m     <a href='vscode-notebook-cell:/c%3A/Coding/EcoThrift/notebooks/Work.ipynb#X13sZmlsZQ%3D%3D?line=33'>34</a>\u001b[0m headers \u001b[39m=\u001b[39m {\n\u001b[0;32m     <a href='vscode-notebook-cell:/c%3A/Coding/EcoThrift/notebooks/Work.ipynb#X13sZmlsZQ%3D%3D?line=34'>35</a>\u001b[0m   \u001b[39m'\u001b[39m\u001b[39mContent-Type\u001b[39m\u001b[39m'\u001b[39m: \u001b[39m'\u001b[39m\u001b[39mapplication/json\u001b[39m\u001b[39m'\u001b[39m,\n\u001b[0;32m     <a href='vscode-notebook-cell:/c%3A/Coding/EcoThrift/notebooks/Work.ipynb#X13sZmlsZQ%3D%3D?line=35'>36</a>\u001b[0m   \u001b[39m'\u001b[39m\u001b[39mAuthorization\u001b[39m\u001b[39m'\u001b[39m: \u001b[39m'\u001b[39m\u001b[39mBearer insert_api_key_here\u001b[39m\u001b[39m'\u001b[39m,\n\u001b[0;32m     <a href='vscode-notebook-cell:/c%3A/Coding/EcoThrift/notebooks/Work.ipynb#X13sZmlsZQ%3D%3D?line=36'>37</a>\u001b[0m   \u001b[39m'\u001b[39m\u001b[39mAccept\u001b[39m\u001b[39m'\u001b[39m: \u001b[39m'\u001b[39m\u001b[39mapplication/json\u001b[39m\u001b[39m'\u001b[39m\n\u001b[0;32m     <a href='vscode-notebook-cell:/c%3A/Coding/EcoThrift/notebooks/Work.ipynb#X13sZmlsZQ%3D%3D?line=37'>38</a>\u001b[0m }\n\u001b[0;32m     <a href='vscode-notebook-cell:/c%3A/Coding/EcoThrift/notebooks/Work.ipynb#X13sZmlsZQ%3D%3D?line=38'>39</a>\u001b[0m request \u001b[39m=\u001b[39m Request(\u001b[39m'\u001b[39m\u001b[39mhttps://private-anon-15e27602a8-fattmerchant.apiary-mock.com/terminal/charge/queue\u001b[39m\u001b[39m'\u001b[39m, data\u001b[39m=\u001b[39mvalues, headers\u001b[39m=\u001b[39mheaders)\n\u001b[1;32m---> <a href='vscode-notebook-cell:/c%3A/Coding/EcoThrift/notebooks/Work.ipynb#X13sZmlsZQ%3D%3D?line=40'>41</a>\u001b[0m response_body \u001b[39m=\u001b[39m urlopen(request)\u001b[39m.\u001b[39mread()\n\u001b[0;32m     <a href='vscode-notebook-cell:/c%3A/Coding/EcoThrift/notebooks/Work.ipynb#X13sZmlsZQ%3D%3D?line=41'>42</a>\u001b[0m \u001b[39mprint\u001b[39m(response_body)\n",
      "File \u001b[1;32m~\\AppData\\Local\\Programs\\Python\\Python310\\lib\\urllib\\request.py:216\u001b[0m, in \u001b[0;36murlopen\u001b[1;34m(url, data, timeout, cafile, capath, cadefault, context)\u001b[0m\n\u001b[0;32m    214\u001b[0m \u001b[39melse\u001b[39;00m:\n\u001b[0;32m    215\u001b[0m     opener \u001b[39m=\u001b[39m _opener\n\u001b[1;32m--> 216\u001b[0m \u001b[39mreturn\u001b[39;00m opener\u001b[39m.\u001b[39;49mopen(url, data, timeout)\n",
      "File \u001b[1;32m~\\AppData\\Local\\Programs\\Python\\Python310\\lib\\urllib\\request.py:516\u001b[0m, in \u001b[0;36mOpenerDirector.open\u001b[1;34m(self, fullurl, data, timeout)\u001b[0m\n\u001b[0;32m    514\u001b[0m \u001b[39mfor\u001b[39;00m processor \u001b[39min\u001b[39;00m \u001b[39mself\u001b[39m\u001b[39m.\u001b[39mprocess_request\u001b[39m.\u001b[39mget(protocol, []):\n\u001b[0;32m    515\u001b[0m     meth \u001b[39m=\u001b[39m \u001b[39mgetattr\u001b[39m(processor, meth_name)\n\u001b[1;32m--> 516\u001b[0m     req \u001b[39m=\u001b[39m meth(req)\n\u001b[0;32m    518\u001b[0m sys\u001b[39m.\u001b[39maudit(\u001b[39m'\u001b[39m\u001b[39murllib.Request\u001b[39m\u001b[39m'\u001b[39m, req\u001b[39m.\u001b[39mfull_url, req\u001b[39m.\u001b[39mdata, req\u001b[39m.\u001b[39mheaders, req\u001b[39m.\u001b[39mget_method())\n\u001b[0;32m    519\u001b[0m response \u001b[39m=\u001b[39m \u001b[39mself\u001b[39m\u001b[39m.\u001b[39m_open(req, data)\n",
      "File \u001b[1;32m~\\AppData\\Local\\Programs\\Python\\Python310\\lib\\urllib\\request.py:1279\u001b[0m, in \u001b[0;36mAbstractHTTPHandler.do_request_\u001b[1;34m(self, request)\u001b[0m\n\u001b[0;32m   1276\u001b[0m \u001b[39mif\u001b[39;00m \u001b[39misinstance\u001b[39m(data, \u001b[39mstr\u001b[39m):\n\u001b[0;32m   1277\u001b[0m     msg \u001b[39m=\u001b[39m \u001b[39m\"\u001b[39m\u001b[39mPOST data should be bytes, an iterable of bytes, \u001b[39m\u001b[39m\"\u001b[39m \\\n\u001b[0;32m   1278\u001b[0m           \u001b[39m\"\u001b[39m\u001b[39mor a file object. It cannot be of type str.\u001b[39m\u001b[39m\"\u001b[39m\n\u001b[1;32m-> 1279\u001b[0m     \u001b[39mraise\u001b[39;00m \u001b[39mTypeError\u001b[39;00m(msg)\n\u001b[0;32m   1280\u001b[0m \u001b[39mif\u001b[39;00m \u001b[39mnot\u001b[39;00m request\u001b[39m.\u001b[39mhas_header(\u001b[39m'\u001b[39m\u001b[39mContent-type\u001b[39m\u001b[39m'\u001b[39m):\n\u001b[0;32m   1281\u001b[0m     request\u001b[39m.\u001b[39madd_unredirected_header(\n\u001b[0;32m   1282\u001b[0m         \u001b[39m'\u001b[39m\u001b[39mContent-type\u001b[39m\u001b[39m'\u001b[39m,\n\u001b[0;32m   1283\u001b[0m         \u001b[39m'\u001b[39m\u001b[39mapplication/x-www-form-urlencoded\u001b[39m\u001b[39m'\u001b[39m)\n",
      "\u001b[1;31mTypeError\u001b[0m: POST data should be bytes, an iterable of bytes, or a file object. It cannot be of type str."
     ]
    }
   ],
   "source": [
    "from urllib.request import Request, urlopen\n",
    "\n",
    "\n",
    "values = \"\"\"\n",
    "{\n",
    "    \"total\": 0.01,\n",
    "    \"meta\": {\n",
    "        \"lineItems\": [],\n",
    "        \"tax\": 0,\n",
    "        \"subtotal\": 0.01,\n",
    "        \"printReceipt\": \"Merchant\",\n",
    "        \"paymentType\": \"Credit\",\n",
    "        \"invoiceId\": \"02936d77-93cc-48a6-b712-7f7234c19b7c\",\n",
    "        \"message\": \"terminalservice.waiting\",\n",
    "        \"type\": \"charge\",\n",
    "        \"registerId\": \"ba5c-5b03\",\n",
    "        \"registerStatusPort\": \"3594291\",\n",
    "        \"registerNickname\": \"Dejavoo Z8\",\n",
    "        \"registerSerial\": \"\",\n",
    "        \"registerType\": \"dejavoo\"\n",
    "    },\n",
    "    \"printReceipt\": \"Both\",\n",
    "    \"paymentType\": \"Credit\",\n",
    "    \"customerId\": \"df25411e-4b01-4efe-8368-496b959b253f\",\n",
    "    \"invoiceId\": \"\",\n",
    "    \"register\": \"4f1b-f10a\",\n",
    "    \"promptTipInput\": false,\n",
    "    \"promptTipChoice\": true,\n",
    "    \"percentageTipThreshold\": 10, // in this case, since total is 0.01, wholeTipAmounts will be used\n",
    "    \"percentageTipChoices\": [10, 18, 25],\n",
    "    \"wholeTipChoices\": [1, 2, 4]\n",
    "}\"\"\"\n",
    "\n",
    "headers = {\n",
    "  'Content-Type': 'application/json',\n",
    "  'Authorization': 'Bearer insert_api_key_here',\n",
    "  'Accept': 'application/json'\n",
    "}\n",
    "\n",
    "request = Request('https://private-anon-15e27602a8-fattmerchant.apiary-mock.com/terminal/charge/queue', data=values, headers=headers)\n",
    "\n",
    "response_body = urlopen(request).read()\n",
    "print(response_body)\n",
    "\n"
   ]
  },
  {
   "cell_type": "code",
   "execution_count": 1,
   "metadata": {},
   "outputs": [],
   "source": [
    "import os\n",
    "import sys\n",
    "\n",
    "import win32con as wcon\n",
    "import win32print as wprn\n",
    "import win32ui as wui\n",
    "from PIL import Image as pil_image, ImageWin as pil_image_win\n",
    "\n",
    "\n",
    "def add_txt(hdc, file_name, new_page=False):\n",
    "    if new_page:\n",
    "        hdc.StartPage()\n",
    "    pixel_scale = 84\n",
    "    with open(file_name, mode=\"r\") as fin:\n",
    "        for idx, line in enumerate(fin):\n",
    "            print(\"Text line {:d}: {:s}\".format(idx, line))\n",
    "            hdc.TextOut(5, idx * pixel_scale, line)\n",
    "    if new_page:\n",
    "        hdc.EndPage()\n",
    "\n",
    "\n",
    "def draw_img(hdc, dib, maxh, maxw):\n",
    "    w, h = dib.size\n",
    "    print(\"Image HW: ({:d}, {:d}), Max HW: ({:d}, {:d})\".format(h, w, maxh, maxw))\n",
    "    h = min(h, maxh)\n",
    "    w = min(w, maxw)\n",
    "    l = (maxw - w) // 2\n",
    "    t = (maxh - h) // 2\n",
    "    dib.draw(hdc, (l, t, l + w, t + h))\n",
    "\n",
    "\n",
    "def add_img(hdc, file_name, new_page=False):\n",
    "    if new_page:\n",
    "        hdc.StartPage()\n",
    "    maxw = hdc.GetDeviceCaps(wcon.HORZRES)\n",
    "    maxh = hdc.GetDeviceCaps(wcon.VERTRES)\n",
    "    img = pil_image.open(file_name)\n",
    "    dib = pil_image_win.Dib(img)\n",
    "    draw_img(hdc.GetHandleOutput(), dib, maxh, maxw)\n",
    "    if new_page:\n",
    "        hdc.EndPage()\n",
    "\n",
    "\n",
    "def main():\n",
    "    printer_name = \"Rollo Printer\"  #wprn.GetDefaultPrinter()\n",
    "    \n",
    "    #out_file = \".\\\\test2.pdf\"\n",
    "    out_file = None  # Send to printer directly\n",
    "    hdc = wui.CreateDC()\n",
    "    hdc.CreatePrinterDC(printer_name)\n",
    "    if out_file and os.path.isfile(out_file):\n",
    "        os.unlink(out_file)\n",
    "    hdc.StartDoc(\"Test\", out_file)\n",
    "\n",
    "    add_txt(hdc, \"google account.txt\")\n",
    "    add_img(hdc, \"some_file.png\")\n",
    "\n",
    "    hdc.EndDoc()\n",
    "    hdc.DeleteDC()"
   ]
  },
  {
   "cell_type": "code",
   "execution_count": 7,
   "metadata": {},
   "outputs": [],
   "source": [
    "printer_name = \"Rollo Printer\"\n",
    "file_name = \"some_file.png\"\n",
    "\n",
    "out_file = None\n",
    "hdc = wui.CreateDC()\n",
    "hdc.CreatePrinterDC(printer_name)\n",
    "\n",
    "hdc.StartDoc(\"Test\", out_file)\n",
    "\n",
    "img = pil_image.open(file_name)\n",
    "dib = pil_image_win.Dib(img)\n",
    "\n",
    "dib.draw(hdc.GetHandleOutput(), (250, 50, 400, 200))\n",
    "\n",
    "hdc.TextOut(10, 10, 'Description')\n",
    "hdc.TextOut(300, 10, 'A1')\n",
    "hdc.TextOut(10, 55, 'Brand')\n",
    "hdc.TextOut(10, 100, 'Model')\n",
    "hdc.TextOut(10, 145, 'Condition')\n",
    "\n",
    "hdc.EndDoc()\n",
    "hdc.DeleteDC()"
   ]
  },
  {
   "cell_type": "code",
   "execution_count": 145,
   "metadata": {},
   "outputs": [],
   "source": []
  },
  {
   "cell_type": "code",
   "execution_count": 149,
   "metadata": {},
   "outputs": [
    {
     "name": "stdout",
     "output_type": "stream",
     "text": [
      "Python 3.10.4 (tags/v3.10.4:9d38120, Mar 23 2022, 23:13:41) [MSC v.1929 64 bit (AMD64)] 064bit on win32\n",
      "\n",
      "Text line 0: Ecothrift\n",
      "\n",
      "Image HW: (290, 290), Max HW: (400, 200)\n",
      "\n",
      "Done.\n"
     ]
    }
   ],
   "source": [
    "print(\"Python {:s} {:03d}bit on {:s}\\n\".format(\" \".join(elem.strip() for elem in sys.version.split(\"\\n\")),\n",
    "                                                64 if sys.maxsize > 0x100000000 else 32, sys.platform))\n",
    "main()\n",
    "print(\"\\nDone.\")"
   ]
  },
  {
   "cell_type": "code",
   "execution_count": 22,
   "metadata": {},
   "outputs": [],
   "source": [
    "import qrcode\n",
    "img = qrcode.make(132654687)\n",
    "type(img)  # qrcode.image.pil.PilImage\n",
    "img.save(\"some_file.png\")"
   ]
  },
  {
   "cell_type": "code",
   "execution_count": 41,
   "metadata": {},
   "outputs": [],
   "source": [
    "from PIL import Image, ImageDraw, ImageFont\n",
    "\n",
    "# get an image\n",
    "with Image.open(\"some_file.png\").convert(\"RGBA\") as base:\n",
    "    color = (0, 0, 0, 255)\n",
    "\n",
    "    # make a blank image for the text, initialized to transparent text color\n",
    "    txt = Image.new(\"RGBA\", (290, 290), (255, 255, 255, 122))\n",
    "    # get a font\n",
    "    fnt = ImageFont.truetype(\"FreeMono.ttf\", 40)\n",
    "\n",
    "    # get a drawing context\n",
    "    d = ImageDraw.Draw(txt)\n",
    "\n",
    "    # draw text, half opacity\n",
    "    d.text((10, 10), \"Hello\", font=fnt, fill=color)\n",
    "    # draw text, full opacity\n",
    "    d.text((10, 60), \"World\", font=fnt, fill=color)\n",
    "\n",
    "    out = Image.alpha_composite(base, txt)\n",
    "\n",
    "    out.show()"
   ]
  },
  {
   "cell_type": "code",
   "execution_count": 29,
   "metadata": {},
   "outputs": [
    {
     "data": {
      "text/plain": [
       "'<p class=\"text-xs mb-0 text-left\">348576.csv</p>'"
      ]
     },
     "execution_count": 29,
     "metadata": {},
     "output_type": "execute_result"
    }
   ],
   "source": [
    "do = lambda x: x[-10:]\n",
    "\n",
    "\n",
    "thisstr = '<p class=\"text-xs mb-0 text-left\">{manifest_file}</p>'\n",
    "\n",
    "thisstr.format(**{'manifest_file': do('12340897439856719348576.csv')})"
   ]
  },
  {
   "cell_type": "code",
   "execution_count": 7,
   "metadata": {},
   "outputs": [
    {
     "data": {
      "text/plain": [
       "'19348576.csv'"
      ]
     },
     "execution_count": 7,
     "metadata": {},
     "output_type": "execute_result"
    }
   ],
   "source": [
    "manifest_file = '12340897439856719348576.csv'\n",
    "manifest_file[-12:]"
   ]
  }
 ],
 "metadata": {
  "kernelspec": {
   "display_name": "Python 3.10.4 ('env': venv)",
   "language": "python",
   "name": "python3"
  },
  "language_info": {
   "codemirror_mode": {
    "name": "ipython",
    "version": 3
   },
   "file_extension": ".py",
   "mimetype": "text/x-python",
   "name": "python",
   "nbconvert_exporter": "python",
   "pygments_lexer": "ipython3",
   "version": "3.10.4"
  },
  "orig_nbformat": 4,
  "vscode": {
   "interpreter": {
    "hash": "e1ca860943cdf9766a033e341897089e8414d9ac386c96afb41a036bffe6e8b8"
   }
  }
 },
 "nbformat": 4,
 "nbformat_minor": 2
}
